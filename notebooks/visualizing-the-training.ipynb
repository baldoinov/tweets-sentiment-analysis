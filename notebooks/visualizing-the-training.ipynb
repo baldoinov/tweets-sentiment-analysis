{
 "cells": [
  {
   "cell_type": "markdown",
   "metadata": {},
   "source": [
    "# Dataset Visualization"
   ]
  },
  {
   "cell_type": "code",
   "execution_count": 1,
   "metadata": {},
   "outputs": [],
   "source": [
    "%load_ext autoreload\n",
    "%autoreload 2\n",
    "\n",
    "import pandas as pd\n",
    "import seaborn as sns\n",
    "import matplotlib.pyplot as plt"
   ]
  },
  {
   "cell_type": "code",
   "execution_count": 2,
   "metadata": {},
   "outputs": [],
   "source": [
    "df = pd.read_csv(\"../data/raw/ModelTrainingLog.csv\")"
   ]
  },
  {
   "cell_type": "code",
   "execution_count": 3,
   "metadata": {},
   "outputs": [
    {
     "name": "stdout",
     "output_type": "stream",
     "text": [
      "<class 'pandas.core.frame.DataFrame'>\n",
      "RangeIndex: 29910 entries, 0 to 29909\n",
      "Data columns (total 8 columns):\n",
      " #   Column     Non-Null Count  Dtype  \n",
      "---  ------     --------------  -----  \n",
      " 0   mode       29910 non-null  object \n",
      " 1   step       29910 non-null  int64  \n",
      " 2   epoch      29910 non-null  int64  \n",
      " 3   loss       29910 non-null  float64\n",
      " 4   accuracy   29910 non-null  float64\n",
      " 5   f1         29910 non-null  float64\n",
      " 6   precision  29910 non-null  float64\n",
      " 7   recall     29910 non-null  float64\n",
      "dtypes: float64(5), int64(2), object(1)\n",
      "memory usage: 1.8+ MB\n"
     ]
    }
   ],
   "source": [
    "df.info()"
   ]
  },
  {
   "cell_type": "code",
   "execution_count": 4,
   "metadata": {},
   "outputs": [
    {
     "data": {
      "text/html": [
       "<div>\n",
       "<style scoped>\n",
       "    .dataframe tbody tr th:only-of-type {\n",
       "        vertical-align: middle;\n",
       "    }\n",
       "\n",
       "    .dataframe tbody tr th {\n",
       "        vertical-align: top;\n",
       "    }\n",
       "\n",
       "    .dataframe thead th {\n",
       "        text-align: right;\n",
       "    }\n",
       "</style>\n",
       "<table border=\"1\" class=\"dataframe\">\n",
       "  <thead>\n",
       "    <tr style=\"text-align: right;\">\n",
       "      <th></th>\n",
       "      <th>mode</th>\n",
       "      <th>step</th>\n",
       "      <th>epoch</th>\n",
       "      <th>loss</th>\n",
       "      <th>accuracy</th>\n",
       "      <th>f1</th>\n",
       "      <th>precision</th>\n",
       "      <th>recall</th>\n",
       "    </tr>\n",
       "  </thead>\n",
       "  <tbody>\n",
       "    <tr>\n",
       "      <th>0</th>\n",
       "      <td>train</td>\n",
       "      <td>0</td>\n",
       "      <td>0</td>\n",
       "      <td>1.124521</td>\n",
       "      <td>0.242188</td>\n",
       "      <td>0.223854</td>\n",
       "      <td>0.413375</td>\n",
       "      <td>0.353726</td>\n",
       "    </tr>\n",
       "    <tr>\n",
       "      <th>1</th>\n",
       "      <td>train</td>\n",
       "      <td>1</td>\n",
       "      <td>0</td>\n",
       "      <td>0.992461</td>\n",
       "      <td>0.593750</td>\n",
       "      <td>0.249589</td>\n",
       "      <td>0.199475</td>\n",
       "      <td>0.333333</td>\n",
       "    </tr>\n",
       "    <tr>\n",
       "      <th>2</th>\n",
       "      <td>train</td>\n",
       "      <td>2</td>\n",
       "      <td>0</td>\n",
       "      <td>0.910455</td>\n",
       "      <td>0.585938</td>\n",
       "      <td>0.246305</td>\n",
       "      <td>0.195312</td>\n",
       "      <td>0.333333</td>\n",
       "    </tr>\n",
       "    <tr>\n",
       "      <th>3</th>\n",
       "      <td>train</td>\n",
       "      <td>3</td>\n",
       "      <td>0</td>\n",
       "      <td>0.845725</td>\n",
       "      <td>0.625000</td>\n",
       "      <td>0.256410</td>\n",
       "      <td>0.208333</td>\n",
       "      <td>0.333333</td>\n",
       "    </tr>\n",
       "    <tr>\n",
       "      <th>4</th>\n",
       "      <td>train</td>\n",
       "      <td>4</td>\n",
       "      <td>0</td>\n",
       "      <td>0.847026</td>\n",
       "      <td>0.609375</td>\n",
       "      <td>0.252427</td>\n",
       "      <td>0.203125</td>\n",
       "      <td>0.333333</td>\n",
       "    </tr>\n",
       "  </tbody>\n",
       "</table>\n",
       "</div>"
      ],
      "text/plain": [
       "    mode  step  epoch      loss  accuracy        f1  precision    recall\n",
       "0  train     0      0  1.124521  0.242188  0.223854   0.413375  0.353726\n",
       "1  train     1      0  0.992461  0.593750  0.249589   0.199475  0.333333\n",
       "2  train     2      0  0.910455  0.585938  0.246305   0.195312  0.333333\n",
       "3  train     3      0  0.845725  0.625000  0.256410   0.208333  0.333333\n",
       "4  train     4      0  0.847026  0.609375  0.252427   0.203125  0.333333"
      ]
     },
     "execution_count": 4,
     "metadata": {},
     "output_type": "execute_result"
    }
   ],
   "source": [
    "df.head()"
   ]
  },
  {
   "cell_type": "code",
   "execution_count": 5,
   "metadata": {},
   "outputs": [
    {
     "data": {
      "text/html": [
       "<div>\n",
       "<style scoped>\n",
       "    .dataframe tbody tr th:only-of-type {\n",
       "        vertical-align: middle;\n",
       "    }\n",
       "\n",
       "    .dataframe tbody tr th {\n",
       "        vertical-align: top;\n",
       "    }\n",
       "\n",
       "    .dataframe thead th {\n",
       "        text-align: right;\n",
       "    }\n",
       "</style>\n",
       "<table border=\"1\" class=\"dataframe\">\n",
       "  <thead>\n",
       "    <tr style=\"text-align: right;\">\n",
       "      <th></th>\n",
       "      <th>mode</th>\n",
       "      <th>epoch</th>\n",
       "      <th>accuracy</th>\n",
       "      <th>f1</th>\n",
       "      <th>loss</th>\n",
       "    </tr>\n",
       "  </thead>\n",
       "  <tbody>\n",
       "    <tr>\n",
       "      <th>0</th>\n",
       "      <td>eval</td>\n",
       "      <td>0</td>\n",
       "      <td>0.825644</td>\n",
       "      <td>0.848602</td>\n",
       "      <td>0.385740</td>\n",
       "    </tr>\n",
       "    <tr>\n",
       "      <th>1</th>\n",
       "      <td>eval</td>\n",
       "      <td>1</td>\n",
       "      <td>0.864019</td>\n",
       "      <td>0.877643</td>\n",
       "      <td>0.315315</td>\n",
       "    </tr>\n",
       "    <tr>\n",
       "      <th>2</th>\n",
       "      <td>eval</td>\n",
       "      <td>2</td>\n",
       "      <td>0.868103</td>\n",
       "      <td>0.886498</td>\n",
       "      <td>0.317006</td>\n",
       "    </tr>\n",
       "    <tr>\n",
       "      <th>3</th>\n",
       "      <td>eval</td>\n",
       "      <td>3</td>\n",
       "      <td>0.870263</td>\n",
       "      <td>0.888246</td>\n",
       "      <td>0.326416</td>\n",
       "    </tr>\n",
       "    <tr>\n",
       "      <th>4</th>\n",
       "      <td>eval</td>\n",
       "      <td>4</td>\n",
       "      <td>0.868591</td>\n",
       "      <td>0.886511</td>\n",
       "      <td>0.377289</td>\n",
       "    </tr>\n",
       "    <tr>\n",
       "      <th>5</th>\n",
       "      <td>train</td>\n",
       "      <td>0</td>\n",
       "      <td>0.674245</td>\n",
       "      <td>0.424022</td>\n",
       "      <td>0.706720</td>\n",
       "    </tr>\n",
       "    <tr>\n",
       "      <th>6</th>\n",
       "      <td>train</td>\n",
       "      <td>1</td>\n",
       "      <td>0.859183</td>\n",
       "      <td>0.875438</td>\n",
       "      <td>0.322103</td>\n",
       "    </tr>\n",
       "    <tr>\n",
       "      <th>7</th>\n",
       "      <td>train</td>\n",
       "      <td>2</td>\n",
       "      <td>0.886319</td>\n",
       "      <td>0.903846</td>\n",
       "      <td>0.266642</td>\n",
       "    </tr>\n",
       "    <tr>\n",
       "      <th>8</th>\n",
       "      <td>train</td>\n",
       "      <td>3</td>\n",
       "      <td>0.911851</td>\n",
       "      <td>0.927347</td>\n",
       "      <td>0.214166</td>\n",
       "    </tr>\n",
       "    <tr>\n",
       "      <th>9</th>\n",
       "      <td>train</td>\n",
       "      <td>4</td>\n",
       "      <td>0.933891</td>\n",
       "      <td>0.946254</td>\n",
       "      <td>0.167141</td>\n",
       "    </tr>\n",
       "  </tbody>\n",
       "</table>\n",
       "</div>"
      ],
      "text/plain": [
       "    mode  epoch  accuracy        f1      loss\n",
       "0   eval      0  0.825644  0.848602  0.385740\n",
       "1   eval      1  0.864019  0.877643  0.315315\n",
       "2   eval      2  0.868103  0.886498  0.317006\n",
       "3   eval      3  0.870263  0.888246  0.326416\n",
       "4   eval      4  0.868591  0.886511  0.377289\n",
       "5  train      0  0.674245  0.424022  0.706720\n",
       "6  train      1  0.859183  0.875438  0.322103\n",
       "7  train      2  0.886319  0.903846  0.266642\n",
       "8  train      3  0.911851  0.927347  0.214166\n",
       "9  train      4  0.933891  0.946254  0.167141"
      ]
     },
     "execution_count": 5,
     "metadata": {},
     "output_type": "execute_result"
    }
   ],
   "source": [
    "df.pivot_table(\n",
    "    index=[\"mode\", \"epoch\"], values=[\"loss\", \"accuracy\", \"f1\"], aggfunc=\"mean\"\n",
    ").reset_index()"
   ]
  },
  {
   "cell_type": "code",
   "execution_count": 6,
   "metadata": {},
   "outputs": [
    {
     "data": {
      "image/png": "[encoded data removed]",
      "text/plain": [
       "<Figure size 1200x600 with 2 Axes>"
      ]
     },
     "metadata": {},
     "output_type": "display_data"
    }
   ],
   "source": [
    "from src.build_visualizations import metrics_from_training\n",
    "\n",
    "metrics_from_training(df)"
   ]
  },
  {
   "cell_type": "code",
   "execution_count": 12,
   "metadata": {},
   "outputs": [
    {
     "data": {
      "text/plain": [
       "f1          0.946254\n",
       "accuracy    0.933891\n",
       "dtype: float64"
      ]
     },
     "execution_count": 12,
     "metadata": {},
     "output_type": "execute_result"
    }
   ],
   "source": [
    "df.pivot_table(\n",
    "    index=[\"mode\", \"epoch\"], values=[\"loss\", \"accuracy\", \"f1\"], aggfunc=\"mean\"\n",
    ").reset_index()[[\"f1\", \"accuracy\"]].max()"
   ]
  },
  {
   "cell_type": "markdown",
   "metadata": {},
   "source": [
    "---"
   ]
  },
  {
   "cell_type": "code",
   "execution_count": 13,
   "metadata": {},
   "outputs": [],
   "source": [
    "df = pd.read_csv(\"../data/raw/ModelTestLog.csv\")"
   ]
  },
  {
   "cell_type": "code",
   "execution_count": 14,
   "metadata": {},
   "outputs": [
    {
     "data": {
      "text/html": [
       "<div>\n",
       "<style scoped>\n",
       "    .dataframe tbody tr th:only-of-type {\n",
       "        vertical-align: middle;\n",
       "    }\n",
       "\n",
       "    .dataframe tbody tr th {\n",
       "        vertical-align: top;\n",
       "    }\n",
       "\n",
       "    .dataframe thead th {\n",
       "        text-align: right;\n",
       "    }\n",
       "</style>\n",
       "<table border=\"1\" class=\"dataframe\">\n",
       "  <thead>\n",
       "    <tr style=\"text-align: right;\">\n",
       "      <th></th>\n",
       "      <th>mode</th>\n",
       "      <th>step</th>\n",
       "      <th>epoch</th>\n",
       "      <th>loss</th>\n",
       "      <th>accuracy</th>\n",
       "      <th>f1</th>\n",
       "      <th>precision</th>\n",
       "      <th>recall</th>\n",
       "    </tr>\n",
       "  </thead>\n",
       "  <tbody>\n",
       "    <tr>\n",
       "      <th>0</th>\n",
       "      <td>eval</td>\n",
       "      <td>0</td>\n",
       "      <td>0</td>\n",
       "      <td>0.429975</td>\n",
       "      <td>0.867188</td>\n",
       "      <td>0.860099</td>\n",
       "      <td>0.847222</td>\n",
       "      <td>0.876287</td>\n",
       "    </tr>\n",
       "    <tr>\n",
       "      <th>1</th>\n",
       "      <td>eval</td>\n",
       "      <td>1</td>\n",
       "      <td>0</td>\n",
       "      <td>0.299695</td>\n",
       "      <td>0.867188</td>\n",
       "      <td>0.888844</td>\n",
       "      <td>0.899031</td>\n",
       "      <td>0.881593</td>\n",
       "    </tr>\n",
       "    <tr>\n",
       "      <th>2</th>\n",
       "      <td>eval</td>\n",
       "      <td>2</td>\n",
       "      <td>0</td>\n",
       "      <td>0.308811</td>\n",
       "      <td>0.835938</td>\n",
       "      <td>0.852690</td>\n",
       "      <td>0.841667</td>\n",
       "      <td>0.868616</td>\n",
       "    </tr>\n",
       "    <tr>\n",
       "      <th>3</th>\n",
       "      <td>eval</td>\n",
       "      <td>3</td>\n",
       "      <td>0</td>\n",
       "      <td>0.258147</td>\n",
       "      <td>0.906250</td>\n",
       "      <td>0.925711</td>\n",
       "      <td>0.923496</td>\n",
       "      <td>0.928354</td>\n",
       "    </tr>\n",
       "    <tr>\n",
       "      <th>4</th>\n",
       "      <td>eval</td>\n",
       "      <td>4</td>\n",
       "      <td>0</td>\n",
       "      <td>0.416072</td>\n",
       "      <td>0.835938</td>\n",
       "      <td>0.867671</td>\n",
       "      <td>0.866300</td>\n",
       "      <td>0.869143</td>\n",
       "    </tr>\n",
       "  </tbody>\n",
       "</table>\n",
       "</div>"
      ],
      "text/plain": [
       "   mode  step  epoch      loss  accuracy        f1  precision    recall\n",
       "0  eval     0      0  0.429975  0.867188  0.860099   0.847222  0.876287\n",
       "1  eval     1      0  0.299695  0.867188  0.888844   0.899031  0.881593\n",
       "2  eval     2      0  0.308811  0.835938  0.852690   0.841667  0.868616\n",
       "3  eval     3      0  0.258147  0.906250  0.925711   0.923496  0.928354\n",
       "4  eval     4      0  0.416072  0.835938  0.867671   0.866300  0.869143"
      ]
     },
     "execution_count": 14,
     "metadata": {},
     "output_type": "execute_result"
    }
   ],
   "source": [
    "df.head()"
   ]
  },
  {
   "cell_type": "code",
   "execution_count": 16,
   "metadata": {},
   "outputs": [
    {
     "data": {
      "text/plain": [
       "loss         0.324625\n",
       "accuracy     0.870465\n",
       "f1           0.889072\n",
       "precision    0.893903\n",
       "recall       0.887908\n",
       "dtype: float64"
      ]
     },
     "execution_count": 16,
     "metadata": {},
     "output_type": "execute_result"
    }
   ],
   "source": [
    "df[[\"loss\", \"accuracy\", \"f1\", \"precision\", \"recall\"]].mean()"
   ]
  },
  {
   "cell_type": "code",
   "execution_count": null,
   "metadata": {},
   "outputs": [],
   "source": []
  }
 ],
 "metadata": {
  "kernelspec": {
   "display_name": ".venv",
   "language": "python",
   "name": "python3"
  },
  "language_info": {
   "codemirror_mode": {
    "name": "ipython",
    "version": 3
   },
   "file_extension": ".py",
   "mimetype": "text/x-python",
   "name": "python",
   "nbconvert_exporter": "python",
   "pygments_lexer": "ipython3",
   "version": "3.10.12"
  }
 },
 "nbformat": 4,
 "nbformat_minor": 2
}
