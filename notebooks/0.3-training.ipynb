{
 "cells": [
  {
   "cell_type": "code",
   "execution_count": 15,
   "metadata": {},
   "outputs": [],
   "source": [
    "import os\n",
    "import torch\n",
    "import logging\n",
    "import evaluate\n",
    "\n",
    "import numpy as np\n",
    "\n",
    "from transformers import (\n",
    "    AutoConfig,\n",
    "    AutoModelForSequenceClassification,\n",
    "    AutoTokenizer,\n",
    "    BertConfig,\n",
    "    BertForSequenceClassification,\n",
    "    Trainer,\n",
    "    TrainingArguments,\n",
    ")\n",
    "\n",
    "from datasets import load_from_disk\n",
    "from torch.utils.data import Dataset"
   ]
  },
  {
   "cell_type": "code",
   "execution_count": 16,
   "metadata": {},
   "outputs": [],
   "source": [
    "SEED = 42\n",
    "DEVICE = torch.device(\"cuda\" if torch.cuda.is_available() else \"cpu\")\n",
    "BATCH_SIZE = 32\n",
    "NUM_LABELS = 3\n",
    "DATA_DIR = \"data/interim/with-emoticon\"\n",
    "\n",
    "id2label = {0: \"Neutro\", 1: \"Positivo\", 2: \"Negativo\"}\n",
    "label2id = {\"Neutro\": 0, \"Positivo\": 1, \"Negativo\": 2}\n",
    "model_checkpoint = \"neuralmind/bert-base-portuguese-cased\"\n",
    "model_output_dir = f\"bert-base-portuguese-cased-finetuned-sentiment-analysis\""
   ]
  },
  {
   "cell_type": "code",
   "execution_count": null,
   "metadata": {},
   "outputs": [],
   "source": [
    "config = BertConfig()\n",
    "# config = AutoConfig.from_config(model_checkpoint)\n",
    "\n",
    "\n",
    "tokenizer = AutoTokenizer.from_pretrained(model_checkpoint)\n",
    "metric = evaluate.load(\"f1\")\n",
    "model = AutoModelForSequenceClassification.from_pretrained(\n",
    "    model_checkpoint, num_labels=NUM_LABELS\n",
    ")"
   ]
  },
  {
   "cell_type": "code",
   "execution_count": 20,
   "metadata": {},
   "outputs": [],
   "source": [
    "def tokenize_function(examples):\n",
    "    return tokenizer(\n",
    "        examples[\"text\"],\n",
    "        padding=\"max_length\",\n",
    "        max_length=512,\n",
    "        truncation=True\n",
    "    )\n",
    "\n",
    "\n",
    "def compute_metrics(eval_pred):\n",
    "    logits, labels = eval_pred\n",
    "    predictions = np.argmax(logits, axis=-1)\n",
    "\n",
    "    return metric.compute(predictions=predictions, references=labels, average=\"macro\")"
   ]
  },
  {
   "cell_type": "code",
   "execution_count": 21,
   "metadata": {},
   "outputs": [
    {
     "name": "stderr",
     "output_type": "stream",
     "text": [
      "Some weights of BertForSequenceClassification were not initialized from the model checkpoint at neuralmind/bert-base-portuguese-cased and are newly initialized: ['classifier.bias', 'classifier.weight']\n",
      "You should probably TRAIN this model on a down-stream task to be able to use it for predictions and inference.\n",
      "Map: 100%|██████████| 630481/630481 [02:29<00:00, 4223.93 examples/s]\n",
      "Map: 100%|██████████| 135103/135103 [00:32<00:00, 4102.07 examples/s]\n",
      "Map: 100%|██████████| 135104/135104 [00:31<00:00, 4253.24 examples/s]\n"
     ]
    }
   ],
   "source": [
    "\n",
    "ds = load_from_disk(f\"../data/interim/with-emoticons\")\n",
    "ds = ds.map(tokenize_function, batched=True)"
   ]
  },
  {
   "cell_type": "code",
   "execution_count": 22,
   "metadata": {},
   "outputs": [],
   "source": [
    "args = TrainingArguments(\n",
    "    output_dir=model_output_dir,\n",
    "    evaluation_strategy=\"steps\",\n",
    "    eval_steps=50,\n",
    "    logging_strategy=\"steps\",\n",
    "    logging_steps=50,\n",
    "    save_strategy=\"steps\",\n",
    "    save_steps=500,\n",
    "    learning_rate=2e-5,\n",
    "    per_device_train_batch_size=16,\n",
    "    per_device_eval_batch_size=16,\n",
    "    num_train_epochs=1,\n",
    "    load_best_model_at_end=True,\n",
    "    metric_for_best_model=\"f1\",\n",
    "    report_to=\"tensorboard\",\n",
    ")"
   ]
  },
  {
   "cell_type": "code",
   "execution_count": null,
   "metadata": {},
   "outputs": [],
   "source": [
    "trainer = Trainer(\n",
    "    model=model,\n",
    "    args=args,\n",
    "    train_dataset=ds[\"train\"],\n",
    "    eval_dataset=ds[\"dev\"],\n",
    "    compute_metrics=compute_metrics,\n",
    ")\n",
    "\n",
    "trainer.train()"
   ]
  },
  {
   "cell_type": "code",
   "execution_count": null,
   "metadata": {},
   "outputs": [],
   "source": [
    "%load_ext tensorboard\n",
    "%tensorboard --logdir '{model_output_dir}'/runs"
   ]
  },
  {
   "cell_type": "code",
   "execution_count": null,
   "metadata": {},
   "outputs": [],
   "source": [
    "args = dict(attention_probs_dropout_prob=[0.1],\n",
    "            classifier_dropout=[\"null\"],\n",
    "            hidden_dropout_prob=[0.1],\n",
    "            hidden_size=[768],\n",
    "            id2label={\"0\": \"LABEL_0\", \"1\": \"LABEL_1\", \"2\": \"LABEL_2\"},\n",
    "            label2id={\"LABEL_0\": 0, \"LABEL_1\": 1, \"LABEL_2\": 2},\n",
    "            initializer_range=[0.02],\n",
    "            intermediate_size=[3072],\n",
    "            layer_norm_eps=[1e-12],\n",
    "            max_position_embeddings=512,\n",
    "            num_attention_heads=[12],\n",
    "            num_hidden_layers=[12]\n",
    " \n",
    "            )"
   ]
  },
  {
   "cell_type": "code",
   "execution_count": null,
   "metadata": {},
   "outputs": [],
   "source": [
    "{\n",
    "    \"_name_or_path\": \"neuralmind/bert-base-portuguese-cased\",\n",
    "    \"architectures\": [\"BertForSequenceClassification\"],\n",
    "    \"attention_probs_dropout_prob\": 0.1,\n",
    "    \"classifier_dropout\": null,\n",
    "    \"directionality\": \"bidi\",\n",
    "    \"hidden_act\": \"gelu\",\n",
    "    \"hidden_dropout_prob\": 0.1,\n",
    "    \"hidden_size\": 768,\n",
    "    \"id2label\": {\"0\": \"LABEL_0\", \"1\": \"LABEL_1\", \"2\": \"LABEL_2\"},\n",
    "    \"initializer_range\": 0.02,\n",
    "    \"intermediate_size\": 3072,\n",
    "    \"label2id\": {\"LABEL_0\": 0, \"LABEL_1\": 1, \"LABEL_2\": 2},\n",
    "    \"layer_norm_eps\": 1e-12,\n",
    "    \"max_position_embeddings\": 512,\n",
    "    \"model_type\": \"bert\",\n",
    "    \"num_attention_heads\": 12,\n",
    "    \"num_hidden_layers\": 12,\n",
    "    \"output_past\": true,\n",
    "    \"pad_token_id\": 0,\n",
    "    \"pooler_fc_size\": 768,\n",
    "    \"pooler_num_attention_heads\": 12,\n",
    "    \"pooler_num_fc_layers\": 3,\n",
    "    \"pooler_size_per_head\": 128,\n",
    "    \"pooler_type\": \"first_token_transform\",\n",
    "    \"position_embedding_type\": \"absolute\",\n",
    "    \"problem_type\": \"single_label_classification\",\n",
    "    \"torch_dtype\": \"float32\",\n",
    "    \"transformers_version\": \"4.38.2\",\n",
    "    \"type_vocab_size\": 2,\n",
    "    \"use_cache\": true,\n",
    "    \"vocab_size\": 29794,\n",
    "}"
   ]
  }
 ],
 "metadata": {
  "kernelspec": {
   "display_name": ".venv",
   "language": "python",
   "name": "python3"
  },
  "language_info": {
   "codemirror_mode": {
    "name": "ipython",
    "version": 3
   },
   "file_extension": ".py",
   "mimetype": "text/x-python",
   "name": "python",
   "nbconvert_exporter": "python",
   "pygments_lexer": "ipython3",
   "version": "3.10.12"
  }
 },
 "nbformat": 4,
 "nbformat_minor": 2
}
